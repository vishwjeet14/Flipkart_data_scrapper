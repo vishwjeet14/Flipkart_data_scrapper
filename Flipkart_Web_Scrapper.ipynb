{
 "cells": [
  {
   "cell_type": "markdown",
   "id": "21b89166",
   "metadata": {},
   "source": [
    "# Step - 1 Create a new Python Enviorment "
   ]
  },
  {
   "cell_type": "markdown",
   "id": "d427cfc0",
   "metadata": {},
   "source": [
    "# Step - 2 Install all required library"
   ]
  },
  {
   "cell_type": "code",
   "execution_count": 1,
   "id": "3ec0dd7b",
   "metadata": {},
   "outputs": [
    {
     "name": "stdout",
     "output_type": "stream",
     "text": [
      "Requirement already satisfied: numpy in d:\\projects\\web scrapping projects\\flipkart scrapper\\flipkartenv\\lib\\site-packages (1.22.3)"
     ]
    },
    {
     "name": "stderr",
     "output_type": "stream",
     "text": [
      "WARNING: You are using pip version 21.3.1; however, version 22.0.4 is available.\n",
      "You should consider upgrading via the 'D:\\Projects\\WEB SCRAPPING PROJECTS\\FLIPKART SCRAPPER\\flipkartenv\\Scripts\\python.exe -m pip install --upgrade pip' command.\n"
     ]
    },
    {
     "name": "stdout",
     "output_type": "stream",
     "text": [
      "\n",
      "Requirement already satisfied: pandas in d:\\projects\\web scrapping projects\\flipkart scrapper\\flipkartenv\\lib\\site-packages (1.4.2)\n",
      "Requirement already satisfied: python-dateutil>=2.8.1 in d:\\projects\\web scrapping projects\\flipkart scrapper\\flipkartenv\\lib\\site-packages (from pandas) (2.8.2)\n",
      "Requirement already satisfied: numpy>=1.18.5 in d:\\projects\\web scrapping projects\\flipkart scrapper\\flipkartenv\\lib\\site-packages (from pandas) (1.22.3)\n",
      "Requirement already satisfied: pytz>=2020.1 in d:\\projects\\web scrapping projects\\flipkart scrapper\\flipkartenv\\lib\\site-packages (from pandas) (2022.1)\n",
      "Requirement already satisfied: six>=1.5 in d:\\projects\\web scrapping projects\\flipkart scrapper\\flipkartenv\\lib\\site-packages (from python-dateutil>=2.8.1->pandas) (1.16.0)\n"
     ]
    },
    {
     "name": "stderr",
     "output_type": "stream",
     "text": [
      "WARNING: You are using pip version 21.3.1; however, version 22.0.4 is available.\n",
      "You should consider upgrading via the 'D:\\Projects\\WEB SCRAPPING PROJECTS\\FLIPKART SCRAPPER\\flipkartenv\\Scripts\\python.exe -m pip install --upgrade pip' command.\n"
     ]
    },
    {
     "name": "stdout",
     "output_type": "stream",
     "text": [
      "Requirement already satisfied: requests in d:\\projects\\web scrapping projects\\flipkart scrapper\\flipkartenv\\lib\\site-packages (2.27.1)\n",
      "Requirement already satisfied: idna<4,>=2.5 in d:\\projects\\web scrapping projects\\flipkart scrapper\\flipkartenv\\lib\\site-packages (from requests) (3.3)\n",
      "Requirement already satisfied: certifi>=2017.4.17 in d:\\projects\\web scrapping projects\\flipkart scrapper\\flipkartenv\\lib\\site-packages (from requests) (2021.10.8)\n",
      "Requirement already satisfied: urllib3<1.27,>=1.21.1 in d:\\projects\\web scrapping projects\\flipkart scrapper\\flipkartenv\\lib\\site-packages (from requests) (1.26.9)\n",
      "Requirement already satisfied: charset-normalizer~=2.0.0 in d:\\projects\\web scrapping projects\\flipkart scrapper\\flipkartenv\\lib\\site-packages (from requests) (2.0.12)\n"
     ]
    },
    {
     "name": "stderr",
     "output_type": "stream",
     "text": [
      "WARNING: You are using pip version 21.3.1; however, version 22.0.4 is available.\n",
      "You should consider upgrading via the 'D:\\Projects\\WEB SCRAPPING PROJECTS\\FLIPKART SCRAPPER\\flipkartenv\\Scripts\\python.exe -m pip install --upgrade pip' command.\n"
     ]
    },
    {
     "name": "stdout",
     "output_type": "stream",
     "text": [
      "Requirement already satisfied: Beautifulsoup4 in d:\\projects\\web scrapping projects\\flipkart scrapper\\flipkartenv\\lib\\site-packages (4.11.1)\n",
      "Requirement already satisfied: soupsieve>1.2 in d:\\projects\\web scrapping projects\\flipkart scrapper\\flipkartenv\\lib\\site-packages (from Beautifulsoup4) (2.3.2.post1)\n"
     ]
    },
    {
     "name": "stderr",
     "output_type": "stream",
     "text": [
      "WARNING: You are using pip version 21.3.1; however, version 22.0.4 is available.\n",
      "You should consider upgrading via the 'D:\\Projects\\WEB SCRAPPING PROJECTS\\FLIPKART SCRAPPER\\flipkartenv\\Scripts\\python.exe -m pip install --upgrade pip' command.\n"
     ]
    }
   ],
   "source": [
    "!pip install numpy \n",
    "!pip install pandas\n",
    "!pip install requests\n",
    "!pip install Beautifulsoup4"
   ]
  },
  {
   "cell_type": "markdown",
   "id": "0754a91d",
   "metadata": {},
   "source": [
    "# Import all the Library"
   ]
  },
  {
   "cell_type": "code",
   "execution_count": 2,
   "id": "8cbf463f",
   "metadata": {},
   "outputs": [],
   "source": [
    "import numpy as np\n",
    "import pandas as pd\n",
    "import requests\n",
    "from bs4 import BeautifulSoup"
   ]
  },
  {
   "cell_type": "markdown",
   "id": "5707017a",
   "metadata": {},
   "source": [
    "# For Loop for data scraping and after scrapping make a Data Frame"
   ]
  },
  {
   "cell_type": "code",
   "execution_count": 3,
   "id": "b910459a",
   "metadata": {},
   "outputs": [
    {
     "name": "stderr",
     "output_type": "stream",
     "text": [
      "C:\\Users\\Vishwjeet\\AppData\\Local\\Temp\\ipykernel_592\\1126368752.py:54: FutureWarning: The frame.append method is deprecated and will be removed from pandas in a future version. Use pandas.concat instead.\n",
      "  final=final.append(df,ignore_index=True)\n"
     ]
    }
   ],
   "source": [
    "# Making an Empty data frame for appending the data\n",
    "final=pd.DataFrame()\n",
    "\n",
    "# For loop for scrap web page 1 to 41\n",
    "for j in range(1,42):\n",
    "    webpage = requests.get('https://www.flipkart.com/search?q=mobile&otracker=search&otracker1=search&marketplace=FLIPKART&as-show=on&as=off%3Fpage%3D30&page={}'.format(j)).text\n",
    "    soup=BeautifulSoup(webpage,'html.parser')\n",
    "    mobile = soup.find_all('div', class_='_2kHMtA')\n",
    "    \n",
    "    # Empty list for appending the data\n",
    "    Name = []\n",
    "    Rating = []\n",
    "    Ram_Rom = []\n",
    "    Camera = []\n",
    "    Battery = []\n",
    "    Price = []\n",
    "    \n",
    "    # For loop for data scrapping and appending in to the Empty list\n",
    "    for i in mobile:\n",
    "        \n",
    "        try:\n",
    "            Name.append(i.find('div', class_= '_4rR01T').text.strip())\n",
    "        except:\n",
    "            Name.append(np.nan)\n",
    "        \n",
    "        try:\n",
    "            Rating.append(i.find('div', class_ = '_3LWZlK').text.strip())\n",
    "        except:\n",
    "            Rating.append(np.nan)\n",
    "            \n",
    "        try:\n",
    "            Ram_Rom.append(i.find_all('li', class_= 'rgWa7D')[0].text.strip())\n",
    "        except:\n",
    "            Ram_Rom.append(np.nan)\n",
    "            \n",
    "        try:\n",
    "            Camera.append(i.find_all('li', class_= 'rgWa7D')[2].text.strip())    \n",
    "        except:\n",
    "            Camera.append(np.nan)\n",
    "            \n",
    "        try:\n",
    "            Battery.append(i.find_all('li', class_= 'rgWa7D')[3].text.strip())\n",
    "        except:\n",
    "            Battery.append(np.nan)\n",
    "                \n",
    "        try:\n",
    "            Price.append(i.find('div', class_= '_30jeq3 _1_WHN1').text.strip())\n",
    "        except:\n",
    "            Price.append(np.nan)\n",
    "\n",
    "    # make a data frame from empty list \n",
    "    d = {'Name':Name , 'Rating':Rating ,'Ram_Rom':Ram_Rom , 'Camera':Camera , 'Battery':Battery , 'Price':Price}\n",
    "    df = pd.DataFrame(d)\n",
    "    final=final.append(df,ignore_index=True)"
   ]
  },
  {
   "cell_type": "markdown",
   "id": "92d24297",
   "metadata": {},
   "source": [
    "# Shape of Data Frame"
   ]
  },
  {
   "cell_type": "code",
   "execution_count": 4,
   "id": "02af3e7c",
   "metadata": {},
   "outputs": [
    {
     "data": {
      "text/plain": [
       "(960, 6)"
      ]
     },
     "execution_count": 4,
     "metadata": {},
     "output_type": "execute_result"
    }
   ],
   "source": [
    "final.shape"
   ]
  },
  {
   "cell_type": "markdown",
   "id": "0b790ba4",
   "metadata": {},
   "source": [
    "# Top 5 Row of Data Frame"
   ]
  },
  {
   "cell_type": "code",
   "execution_count": 5,
   "id": "1ab7ba13",
   "metadata": {},
   "outputs": [
    {
     "data": {
      "text/html": [
       "<div>\n",
       "<style scoped>\n",
       "    .dataframe tbody tr th:only-of-type {\n",
       "        vertical-align: middle;\n",
       "    }\n",
       "\n",
       "    .dataframe tbody tr th {\n",
       "        vertical-align: top;\n",
       "    }\n",
       "\n",
       "    .dataframe thead th {\n",
       "        text-align: right;\n",
       "    }\n",
       "</style>\n",
       "<table border=\"1\" class=\"dataframe\">\n",
       "  <thead>\n",
       "    <tr style=\"text-align: right;\">\n",
       "      <th></th>\n",
       "      <th>Name</th>\n",
       "      <th>Rating</th>\n",
       "      <th>Ram_Rom</th>\n",
       "      <th>Camera</th>\n",
       "      <th>Battery</th>\n",
       "      <th>Price</th>\n",
       "    </tr>\n",
       "  </thead>\n",
       "  <tbody>\n",
       "    <tr>\n",
       "      <th>0</th>\n",
       "      <td>realme 8s 5G (Universe Blue, 128 GB)</td>\n",
       "      <td>4.4</td>\n",
       "      <td>8 GB RAM | 128 GB ROM | Expandable Upto 1 TB</td>\n",
       "      <td>64MP + 2MP + 2MP | 16MP Front Camera</td>\n",
       "      <td>5000 mAh Battery</td>\n",
       "      <td>₹20,099</td>\n",
       "    </tr>\n",
       "    <tr>\n",
       "      <th>1</th>\n",
       "      <td>POCO C31 (Royal Blue, 64 GB)</td>\n",
       "      <td>4.4</td>\n",
       "      <td>4 GB RAM | 64 GB ROM | Expandable Upto 512 GB</td>\n",
       "      <td>13MP + 2MP + 2MP | 5MP Front Camera</td>\n",
       "      <td>5000 mAh Lithium-ion Polymer Battery</td>\n",
       "      <td>₹9,499</td>\n",
       "    </tr>\n",
       "    <tr>\n",
       "      <th>2</th>\n",
       "      <td>POCO C31 (Shadow Gray, 64 GB)</td>\n",
       "      <td>4.4</td>\n",
       "      <td>4 GB RAM | 64 GB ROM | Expandable Upto 512 GB</td>\n",
       "      <td>13MP + 2MP + 2MP | 5MP Front Camera</td>\n",
       "      <td>5000 mAh Lithium-ion Polymer Battery</td>\n",
       "      <td>₹9,549</td>\n",
       "    </tr>\n",
       "    <tr>\n",
       "      <th>3</th>\n",
       "      <td>SAMSUNG Galaxy F12 (Sea Green, 64 GB)</td>\n",
       "      <td>4.3</td>\n",
       "      <td>4 GB RAM | 64 GB ROM | Expandable Upto 512 GB</td>\n",
       "      <td>48MP + 5MP + 2MP + 2MP | 8MP Front Camera</td>\n",
       "      <td>6000 mAh Lithium-ion Battery</td>\n",
       "      <td>₹11,499</td>\n",
       "    </tr>\n",
       "    <tr>\n",
       "      <th>4</th>\n",
       "      <td>realme C25Y (Glacier Blue, 64 GB)</td>\n",
       "      <td>4.5</td>\n",
       "      <td>4 GB RAM | 64 GB ROM | Expandable Upto 256 GB</td>\n",
       "      <td>50MP + 2MP + 2MP | 8MP Front Camera</td>\n",
       "      <td>5000 mAh Battery</td>\n",
       "      <td>₹10,999</td>\n",
       "    </tr>\n",
       "  </tbody>\n",
       "</table>\n",
       "</div>"
      ],
      "text/plain": [
       "                                    Name Rating  \\\n",
       "0   realme 8s 5G (Universe Blue, 128 GB)    4.4   \n",
       "1           POCO C31 (Royal Blue, 64 GB)    4.4   \n",
       "2          POCO C31 (Shadow Gray, 64 GB)    4.4   \n",
       "3  SAMSUNG Galaxy F12 (Sea Green, 64 GB)    4.3   \n",
       "4      realme C25Y (Glacier Blue, 64 GB)    4.5   \n",
       "\n",
       "                                         Ram_Rom  \\\n",
       "0   8 GB RAM | 128 GB ROM | Expandable Upto 1 TB   \n",
       "1  4 GB RAM | 64 GB ROM | Expandable Upto 512 GB   \n",
       "2  4 GB RAM | 64 GB ROM | Expandable Upto 512 GB   \n",
       "3  4 GB RAM | 64 GB ROM | Expandable Upto 512 GB   \n",
       "4  4 GB RAM | 64 GB ROM | Expandable Upto 256 GB   \n",
       "\n",
       "                                      Camera  \\\n",
       "0       64MP + 2MP + 2MP | 16MP Front Camera   \n",
       "1        13MP + 2MP + 2MP | 5MP Front Camera   \n",
       "2        13MP + 2MP + 2MP | 5MP Front Camera   \n",
       "3  48MP + 5MP + 2MP + 2MP | 8MP Front Camera   \n",
       "4        50MP + 2MP + 2MP | 8MP Front Camera   \n",
       "\n",
       "                                Battery    Price  \n",
       "0                      5000 mAh Battery  ₹20,099  \n",
       "1  5000 mAh Lithium-ion Polymer Battery   ₹9,499  \n",
       "2  5000 mAh Lithium-ion Polymer Battery   ₹9,549  \n",
       "3          6000 mAh Lithium-ion Battery  ₹11,499  \n",
       "4                      5000 mAh Battery  ₹10,999  "
      ]
     },
     "execution_count": 5,
     "metadata": {},
     "output_type": "execute_result"
    }
   ],
   "source": [
    "final.head()"
   ]
  },
  {
   "cell_type": "markdown",
   "id": "d466076b",
   "metadata": {},
   "source": [
    "# Export data into the CSV"
   ]
  },
  {
   "cell_type": "code",
   "execution_count": 6,
   "id": "ce8d8f1e",
   "metadata": {},
   "outputs": [],
   "source": [
    "final.to_csv('Flipkart_Dataset.csv')"
   ]
  }
 ],
 "metadata": {
  "kernelspec": {
   "display_name": "Python 3 (ipykernel)",
   "language": "python",
   "name": "python3"
  },
  "language_info": {
   "codemirror_mode": {
    "name": "ipython",
    "version": 3
   },
   "file_extension": ".py",
   "mimetype": "text/x-python",
   "name": "python",
   "nbconvert_exporter": "python",
   "pygments_lexer": "ipython3",
   "version": "3.9.11"
  }
 },
 "nbformat": 4,
 "nbformat_minor": 5
}
